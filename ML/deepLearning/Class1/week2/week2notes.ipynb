{
 "cells": [
  {
   "cell_type": "code",
   "execution_count": 2,
   "metadata": {
    "collapsed": false
   },
   "outputs": [
    {
     "name": "stdout",
     "output_type": "stream",
     "text": [
      "[1 2 3 4]\n"
     ]
    }
   ],
   "source": [
    "import numpy as np\n",
    "import time\n",
    "a = np.array([1,2,3,4])\n",
    "print(a)"
   ]
  },
  {
   "cell_type": "code",
   "execution_count": 3,
   "metadata": {
    "collapsed": false
   },
   "outputs": [
    {
     "name": "stdout",
     "output_type": "stream",
     "text": [
      "249691.557694\n",
      "vectorize version:26.208162307739258ms\n"
     ]
    }
   ],
   "source": [
    "a = np.random.rand(1000000)\n",
    "b = np.random.rand(1000000)\n",
    "tic = time.time()\n",
    "c = np.dot(a,b)\n",
    "toc = time.time()\n",
    "\n",
    "print(c)\n",
    "print('vectorize version:' + str(1000*(toc-tic)) + \"ms\")\n"
   ]
  },
  {
   "cell_type": "code",
   "execution_count": 4,
   "metadata": {
    "collapsed": false
   },
   "outputs": [
    {
     "name": "stdout",
     "output_type": "stream",
     "text": [
      "249691.557694\n",
      "For loop: 439.133882522583ms\n"
     ]
    }
   ],
   "source": [
    "c = 0\n",
    "tic = time.time()\n",
    "for i in range(1000000):\n",
    "    c += a[i]*b[i]\n",
    "toc = time.time()\n",
    "print(c)\n",
    "print(\"For loop: \" + str(1000*(toc-tic)) + \"ms\")"
   ]
  },
  {
   "cell_type": "code",
   "execution_count": 5,
   "metadata": {
    "collapsed": false
   },
   "outputs": [
    {
     "name": "stdout",
     "output_type": "stream",
     "text": [
      "[ 0.60498013  0.36862763  0.53140688  0.69241215  0.93897921  0.99012892\n",
      "  0.25477557  0.69720785  0.46137064  0.77156311]\n"
     ]
    }
   ],
   "source": [
    "yo = np.random.rand(10)\n",
    "print(yo)"
   ]
  },
  {
   "cell_type": "code",
   "execution_count": 6,
   "metadata": {
    "collapsed": false
   },
   "outputs": [
    {
     "name": "stdout",
     "output_type": "stream",
     "text": [
      "[ 0.60498013  0.36862763  0.53140688  0.69241215  0.93897921  0.99012892\n",
      "  0.25477557  0.69720785  0.46137064  0.77156311]\n"
     ]
    }
   ],
   "source": [
    "print(yo)"
   ]
  },
  {
   "cell_type": "code",
   "execution_count": 7,
   "metadata": {
    "collapsed": false
   },
   "outputs": [],
   "source": [
    "# J = 0, dw1 = 0, dw2 = 0, db = 0"
   ]
  },
  {
   "cell_type": "code",
   "execution_count": 8,
   "metadata": {
    "collapsed": false
   },
   "outputs": [],
   "source": [
    "# def draw_me_a_cat(w, b, num_iterations = 2000, learning_rate = 0.5, print_cost = False):\n",
    "#     \"\"\"\n",
    "#     Draws a sample cat as it was learned by the neural network.\n",
    "#     \"\"\"\n",
    "    \n",
    "#     w = d[\"w\"]\n",
    "#     b = d[\"b\"]\n",
    "#     X = np.random.rand(w.shape[0], 1)\n",
    "    \n",
    "#     for i in range(num_iterations):\n",
    "#         A = sigmoid(np.dot(w.T, X) + b)\n",
    "#         cost = -np.log(A)\n",
    "    \n",
    "#         dx = np.dot(w, (A - 1).T)\n",
    "\n",
    "#         X -= learning_rate * dx\n",
    "        \n",
    "#         # Print the cost every 100 iterations\n",
    "#         if print_cost and i % 100 == 0:\n",
    "#             print (\"Cost after iteration %i: %f\" %(i, cost))\n",
    "    \n",
    "#     return X\n",
    "    \n",
    "# cat = draw_me_a_cat(d[\"w\"], d[\"b\"], num_iterations = 10000, learning_rate = 0.005, print_cost = True)\n",
    "\n",
    "# plt.imshow(cat.reshape((num_px, num_px, 3)))\n",
    "\n",
    "# cat_prediction = predict(d[\"w\"], d[\"b\"], cat)\n",
    "# print(\"y = \" + str(np.squeeze(cat_prediction)) + \", your algorithm predicts a \\\"\" + classes[int(np.squeeze(cat_prediction)),].decode(\"utf-8\") +  \"\\\" picture.\")"
   ]
  },
  {
   "cell_type": "code",
   "execution_count": 9,
   "metadata": {
    "collapsed": false
   },
   "outputs": [],
   "source": [
    "A = np.array([[56.0, 0.0, 4.4, 68.0],\n",
    "              [1.2, 104.0, 52.0, 8.0],\n",
    "              [1.8, 135.0, 99.0, 0.9]])"
   ]
  },
  {
   "cell_type": "code",
   "execution_count": 17,
   "metadata": {
    "collapsed": false
   },
   "outputs": [
    {
     "data": {
      "text/plain": [
       "array([ 0.        ,  0.22222222,  0.44444444,  0.66666667,  0.88888889,\n",
       "        1.11111111,  1.33333333,  1.55555556,  1.77777778,  2.        ])"
      ]
     },
     "execution_count": 17,
     "metadata": {},
     "output_type": "execute_result"
    }
   ],
   "source": [
    "# l = np.linspace(0,2,10)\n",
    "# l"
   ]
  },
  {
   "cell_type": "code",
   "execution_count": 18,
   "metadata": {
    "collapsed": false
   },
   "outputs": [
    {
     "name": "stdout",
     "output_type": "stream",
     "text": [
      "10.0\n"
     ]
    }
   ],
   "source": [
    "# sum = 0\n",
    "# for idx in l:\n",
    "#     sum += idx\n",
    "# print(sum)"
   ]
  },
  {
   "cell_type": "code",
   "execution_count": null,
   "metadata": {
    "collapsed": true
   },
   "outputs": [],
   "source": []
  }
 ],
 "metadata": {
  "kernelspec": {
   "display_name": "Python 3",
   "language": "python",
   "name": "python3"
  },
  "language_info": {
   "codemirror_mode": {
    "name": "ipython",
    "version": 3
   },
   "file_extension": ".py",
   "mimetype": "text/x-python",
   "name": "python",
   "nbconvert_exporter": "python",
   "pygments_lexer": "ipython3",
   "version": "3.6.0"
  }
 },
 "nbformat": 4,
 "nbformat_minor": 2
}
